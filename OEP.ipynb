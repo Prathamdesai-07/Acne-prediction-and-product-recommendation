{
 "cells": [
  {
   "cell_type": "code",
   "execution_count": 17,
   "metadata": {},
   "outputs": [
    {
     "name": "stdout",
     "output_type": "stream",
     "text": [
      "\n",
      "Recommended Products:\n",
      "                   Brand                                               Name  \\\n",
      "153   KIEHL'S SINCE 1851                    Ultra Facial Oil-Free Gel-Cream   \n",
      "367               LANCER                                 The Method: Polish   \n",
      "370              CLARINS            Gentle Foaming Cleanser with Cottonseed   \n",
      "535               LANCER                                The Method: Cleanse   \n",
      "671                 DIOR  Capture Youth Glow Booster Age-Delay Illuminat...   \n",
      "767      KATE SOMERVILLE           EradiKate® Salicylic Acid Acne Treatment   \n",
      "943                 DIOR            Hydra Life Glow Better Fresh Jelly Mask   \n",
      "1168                DIOR                            One Essential Eye Serum   \n",
      "\n",
      "      Price                                        Ingredients  \n",
      "153      29  Water, Glycerin, Alcohol Denat., Dimethicone, ...  \n",
      "367      75  Butylene Glycol, Sodium Bicarbonate, PEG-8, Ma...  \n",
      "370      26  Water, Glycerin, Stearic Acid, Myristic Acid, ...  \n",
      "535      55  Water, Sodium Laureth Sulfate, Cocamidopropyl ...  \n",
      "671      95                            Visit the Dior boutique  \n",
      "767      58  Water, Glycereth-7 Trimethyl Ether, Cetyl Alco...  \n",
      "943      69  -AHAs (From Bluberry, Sugar Cane, Orange, Lemo...  \n",
      "1168     72                                            No Info  \n"
     ]
    }
   ],
   "source": [
    "import pandas as pd\n",
    "from sklearn.model_selection import train_test_split\n",
    "from sklearn.ensemble import RandomForestClassifier\n",
    "\n",
    "# Load the CSV file\n",
    "df = pd.read_csv(r'C:/Users/NAINITA/OneDrive/Desktop/DMDW/cosmetics.csv')\n",
    "\n",
    "# Data Cleaning: Drop rows with missing values\n",
    "df.dropna(inplace=True)\n",
    "\n",
    "# Feature Encoding: Convert skin types into binary format\n",
    "df_encoded = pd.get_dummies(df, columns=['Dry', 'Normal', 'Oily', 'Sensitive'], drop_first=True)\n",
    "\n",
    "# Define Features and Target Variable\n",
    "X = df_encoded.drop(['Label', 'Brand', 'Name', 'Price', 'Rank', 'Ingredients'], axis=1)  # Adjust as needed\n",
    "y = df_encoded[['Dry_1', 'Normal_1', 'Oily_1', 'Sensitive_1']].idxmax(axis=1)  # Get the skin type with the highest value\n",
    "\n",
    "# Split the Data\n",
    "X_train, X_test, y_train, y_test = train_test_split(X, y, test_size=0.2, random_state=42)\n",
    "\n",
    "# Train the Random Forest Model\n",
    "model = RandomForestClassifier(n_estimators=100, random_state=42)\n",
    "model.fit(X_train, y_train)\n",
    "\n",
    "# Function to recommend products based on user input\n",
    "def recommend_products(user_input):\n",
    "    # Convert user input string to a list of integers\n",
    "    input_values = list(map(int, user_input.split(',')))\n",
    "\n",
    "    # Create a DataFrame for prediction using the user's input\n",
    "    user_df = pd.DataFrame([input_values], columns=X.columns)  # Use X.columns to ensure all features are included\n",
    "    \n",
    "    # Predict skin type using the trained model\n",
    "    predicted_skin_type = model.predict(user_df)[0]\n",
    "\n",
    "    # Create a mask for filtering products based on predicted skin type\n",
    "    mask = (df_encoded['Dry_1'] == (predicted_skin_type == 'Dry_1')) & \\\n",
    "           (df_encoded['Normal_1'] == (predicted_skin_type == 'Normal_1')) & \\\n",
    "           (df_encoded['Oily_1'] == (predicted_skin_type == 'Oily_1')) & \\\n",
    "           (df_encoded['Sensitive_1'] == (predicted_skin_type == 'Sensitive_1'))\n",
    "\n",
    "    recommended = df[mask]\n",
    "\n",
    "    return recommended[['Brand', 'Name', 'Price', 'Ingredients']]\n",
    "\n",
    "# User Input for Skin Types as binary values\n",
    "user_input = input(\"Enter your skin types as binary values (e.g., 0,1,0,1,0 for Dry and Oily): \")\n",
    "\n",
    "# Validate user input length\n",
    "expected_length = len(X.columns)\n",
    "if len(user_input.split(',')) == expected_length:\n",
    "    recommendations = recommend_products(user_input)\n",
    "    if not recommendations.empty:\n",
    "        print(\"\\nRecommended Products:\")\n",
    "        print(recommendations)\n",
    "    else:\n",
    "        print(\"No products match your criteria.\")\n",
    "else:\n",
    "    print(f\"Invalid input. Please enter {expected_length} binary values corresponding to all features.\")"
   ]
  },
  {
   "cell_type": "code",
   "execution_count": 18,
   "metadata": {},
   "outputs": [
    {
     "data": {
      "text/plain": [
       "['random_forest_recommendation_model.pkl']"
      ]
     },
     "execution_count": 18,
     "metadata": {},
     "output_type": "execute_result"
    }
   ],
   "source": [
    "import joblib\n",
    "\n",
    "# Save the model\n",
    "joblib.dump(model, 'random_forest_recommendation_model.pkl')"
   ]
  },
  {
   "cell_type": "code",
   "execution_count": null,
   "metadata": {},
   "outputs": [],
   "source": []
  }
 ],
 "metadata": {
  "kernelspec": {
   "display_name": "dmdw",
   "language": "python",
   "name": "python3"
  },
  "language_info": {
   "codemirror_mode": {
    "name": "ipython",
    "version": 3
   },
   "file_extension": ".py",
   "mimetype": "text/x-python",
   "name": "python",
   "nbconvert_exporter": "python",
   "pygments_lexer": "ipython3",
   "version": "3.12.3"
  }
 },
 "nbformat": 4,
 "nbformat_minor": 2
}
